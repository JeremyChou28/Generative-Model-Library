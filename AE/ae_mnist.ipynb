{
 "cells": [
  {
   "cell_type": "code",
   "execution_count": 14,
   "metadata": {},
   "outputs": [],
   "source": [
    "import torch\n",
    "from torch.utils.data import DataLoader\n",
    "from torchvision import transforms, datasets\n",
    "from torchvision.utils import save_image\n",
    "from torch import nn, optim\n",
    "import matplotlib.pyplot as plt\n",
    "import os"
   ]
  },
  {
   "cell_type": "markdown",
   "metadata": {},
   "source": [
    "Auto-Encoder模型"
   ]
  },
  {
   "cell_type": "code",
   "execution_count": 2,
   "metadata": {},
   "outputs": [],
   "source": [
    "class AE(nn.Module):\n",
    "\n",
    "    def __init__(self):\n",
    "        # 调用父类方法初始化模块的state\n",
    "        super(AE, self).__init__()\n",
    "\n",
    "        # 编码器 ： [b, 784] => [b, 20]\n",
    "        self.encoder = nn.Sequential(nn.Linear(784, 256), nn.ReLU(),\n",
    "                                     nn.Linear(256, 20), nn.ReLU())\n",
    "\n",
    "        # 解码器 ： [b, 20] => [b, 784]\n",
    "        self.decoder = nn.Sequential(\n",
    "            nn.Linear(20, 256),\n",
    "            nn.ReLU(),\n",
    "            nn.Linear(256, 784),\n",
    "            nn.Sigmoid()  # 图片数值取值为[0,1]，不宜用ReLU\n",
    "        )\n",
    "\n",
    "    def forward(self, x):\n",
    "        \"\"\"\n",
    "        向前传播部分, 在model_name(inputs)时自动调用\n",
    "        :param x: the input of our training model\n",
    "        :return: the result of our training model\n",
    "        \"\"\"\n",
    "        batch_size = x.shape[0]  # 每一批含有的样本的个数\n",
    "        # flatten\n",
    "        # tensor.view()方法可以调整tensor的形状，但必须保证调整前后元素总数一致。view不会修改自身的数据，\n",
    "        # 返回的新tensor与原tensor共享内存，即更改一个，另一个也随之改变。\n",
    "        x = x.view(batch_size, 784)  # 一行代表一个样本\n",
    "\n",
    "        # encoder\n",
    "        x = self.encoder(x)\n",
    "\n",
    "        # decoder\n",
    "        x = self.decoder(x)\n",
    "\n",
    "        # reshape\n",
    "        x = x.view(batch_size, 1, 28, 28)\n",
    "        return x"
   ]
  },
  {
   "cell_type": "code",
   "execution_count": 3,
   "metadata": {},
   "outputs": [],
   "source": [
    "# 超参数设置\n",
    "# Hyper-parameters\n",
    "image_size = 784    # mnist数据集中一张图片的size，28*28\n",
    "num_epochs = 100 # 迭代次数\n",
    "batch_size = 128    # 一批样本的数量\n",
    "learning_rate = 1e-3    # 学习率"
   ]
  },
  {
   "cell_type": "code",
   "execution_count": 4,
   "metadata": {},
   "outputs": [],
   "source": [
    "plt.style.use(\"ggplot\")\n",
    "\n",
    "# 下载mnist数据集\n",
    "mnist_train = datasets.MNIST(root='./data/mnist',\n",
    "                                train=True,\n",
    "                                transform=transforms.Compose(\n",
    "                                    [transforms.ToTensor()]),\n",
    "                                download=True)\n",
    "mnist_test = datasets.MNIST(root='./data/mnist',\n",
    "                            train=False,\n",
    "                            transform=transforms.Compose(\n",
    "                                [transforms.ToTensor()]),\n",
    "                            download=True)\n",
    "\n",
    "# 载入mnist数据集\n",
    "# batch_size设置每一批数据的大小，shuffle设置是否打乱数据顺序，结果表明，该函数会先打乱数据再按batch_size取数据\n",
    "mnist_train = DataLoader(mnist_train, batch_size=batch_size, shuffle=True)\n",
    "mnist_test = DataLoader(mnist_test, batch_size=batch_size, shuffle=True)                            "
   ]
  },
  {
   "cell_type": "code",
   "execution_count": 5,
   "metadata": {},
   "outputs": [
    {
     "name": "stdout",
     "output_type": "stream",
     "text": [
      " img :  torch.Size([128, 1, 28, 28])\n"
     ]
    }
   ],
   "source": [
    "# 查看每一个batch图片的规模\n",
    "x, label = iter(mnist_train).__next__()  # 取出第一批(batch)训练所用的数据集\n",
    "print(' img : ', x.shape\n",
    "        )  # img :  torch.Size([128, 1, 28, 28])， 每次迭代获取128张图片，每张图大小为(1,28,28)\n"
   ]
  },
  {
   "cell_type": "code",
   "execution_count": 6,
   "metadata": {},
   "outputs": [
    {
     "name": "stdout",
     "output_type": "stream",
     "text": [
      "cuda\n",
      "The structure of our model is shown below: \n",
      "\n",
      "AE(\n",
      "  (encoder): Sequential(\n",
      "    (0): Linear(in_features=784, out_features=256, bias=True)\n",
      "    (1): ReLU()\n",
      "    (2): Linear(in_features=256, out_features=20, bias=True)\n",
      "    (3): ReLU()\n",
      "  )\n",
      "  (decoder): Sequential(\n",
      "    (0): Linear(in_features=20, out_features=256, bias=True)\n",
      "    (1): ReLU()\n",
      "    (2): Linear(in_features=256, out_features=784, bias=True)\n",
      "    (3): Sigmoid()\n",
      "  )\n",
      ")\n"
     ]
    }
   ],
   "source": [
    "# 准备工作 : 搭建计算流程\n",
    "device = torch.device('cuda')\n",
    "print(device)\n",
    "AEmodel = AE().to(device)  # 生成AE模型，并转移到GPU上去\n",
    "print('The structure of our model is shown below: \\n')\n",
    "print(AEmodel)\n",
    "loss_function = nn.MSELoss()  # 生成损失函数\n",
    "optimizer = optim.Adam(AEmodel.parameters(),\n",
    "                        lr=learning_rate)  # 生成优化器，需要优化的是model的参数，学习率为0.001"
   ]
  },
  {
   "cell_type": "code",
   "execution_count": 7,
   "metadata": {},
   "outputs": [
    {
     "name": "stdout",
     "output_type": "stream",
     "text": [
      "Epoch [0/10] :  loss =  0.026693804189562798\n",
      "Epoch [1/10] :  loss =  0.020975418388843536\n",
      "Epoch [2/10] :  loss =  0.02221994288265705\n",
      "Epoch [3/10] :  loss =  0.02049495279788971\n",
      "Epoch [4/10] :  loss =  0.018461525440216064\n",
      "Epoch [5/10] :  loss =  0.017441708594560623\n",
      "Epoch [6/10] :  loss =  0.017157604917883873\n",
      "Epoch [7/10] :  loss =  0.019108084961771965\n",
      "Epoch [8/10] :  loss =  0.016986755654215813\n",
      "Epoch [9/10] :  loss =  0.016092710196971893\n"
     ]
    }
   ],
   "source": [
    "# 开始迭代\n",
    "num_epochs=10\n",
    "loss_epoch = []\n",
    "for epoch in range(num_epochs):\n",
    "    # 每一代都要遍历所有的批次\n",
    "    for batch_index, (x, _) in enumerate(mnist_train):\n",
    "        # [b, 1, 28, 28]\n",
    "        x = x.to(device)\n",
    "        # 前向传播\n",
    "        x_hat = AEmodel(x)  # 模型的输出，在这里会自动调用model中的forward函数\n",
    "        loss = loss_function(x_hat, x)  # 计算损失值，即目标函数\n",
    "        # 后向传播\n",
    "        optimizer.zero_grad()  # 梯度清零，否则上一步的梯度仍会存在\n",
    "        loss.backward()  # 后向传播计算梯度，这些梯度会保存在model.parameters里面\n",
    "        optimizer.step()  # 更新梯度，这一步与上一步主要是根据model.parameters联系起来了\n",
    "\n",
    "    loss_epoch.append(loss.item())\n",
    "    if epoch % (num_epochs // 10) == 0:\n",
    "        print('Epoch [{}/{}] : '.format(epoch, num_epochs), 'loss = ',\n",
    "                loss.item())  # loss是Tensor类型\n",
    "torch.save(AEmodel,'AE_mnist.pth')\n",
    "# x, _ = iter(mnist_test).__next__()   # 在测试集中取出一部分数据\n",
    "# with torch.no_grad():\n",
    "#     x_hat = model(x)\n"
   ]
  },
  {
   "cell_type": "code",
   "execution_count": 8,
   "metadata": {},
   "outputs": [
    {
     "data": {
      "image/png": "[encoded data removed]",
      "text/plain": [
       "<Figure size 640x480 with 1 Axes>"
      ]
     },
     "metadata": {},
     "output_type": "display_data"
    }
   ],
   "source": [
    "# 绘制训练结果\n",
    "plt.plot(loss_epoch)\n",
    "plt.xlabel('epoch')\n",
    "plt.ylabel('loss')\n",
    "plt.show()"
   ]
  },
  {
   "cell_type": "code",
   "execution_count": 15,
   "metadata": {},
   "outputs": [
    {
     "name": "stdout",
     "output_type": "stream",
     "text": [
      "torch.Size([96, 1, 28, 28])\n",
      "torch.Size([96, 1, 28, 28])\n"
     ]
    }
   ],
   "source": [
    "ae_mnist=torch.load('AE_mnist.pth')\n",
    "# 重构的图像\n",
    "print(x.shape)\n",
    "out= ae_mnist(x)  # 对最后一个batch的样本进行重构，最后一个batch的样本只有96个，因此x的维度是(96,784)，输出的vector维度也是(96,784)\n",
    "print(out.shape)\n",
    "\n",
    "x_concat = torch.cat([x.view(-1, 1, 28, 28),\n",
    "                        out.view(-1, 1, 28, 28)],\n",
    "                        dim=3)  # 将原始输入的向量和重构的向量拼接，拼接的是第3维，输出维度是(96,1,28,56)\n",
    "# print(x_concat.shape)\n",
    "save_image(x_concat,\n",
    "            os.path.join('./results/',\n",
    "                        'ae_reconst-1.png'))  # 保存重构的图片"
   ]
  }
 ],
 "metadata": {
  "kernelspec": {
   "display_name": "pytorch",
   "language": "python",
   "name": "python3"
  },
  "language_info": {
   "name": "python",
   "version": "3.7.11 (default, Jul 27 2021, 14:32:16) \n[GCC 7.5.0]"
  },
  "orig_nbformat": 4,
  "vscode": {
   "interpreter": {
    "hash": "be6a42a38cf19a2646c3ff61fbe6f9cf32a117da641e0e6e146e744a0b5291c7"
   }
  }
 },
 "nbformat": 4,
 "nbformat_minor": 2
}
