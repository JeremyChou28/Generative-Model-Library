{
 "cells": [
  {
   "cell_type": "code",
   "execution_count": 1,
   "metadata": {},
   "outputs": [
    {
     "name": "stdout",
     "output_type": "stream",
     "text": [
      "tensor([[[-0.4916, -0.7328,  0.3370],\n",
      "         [ 0.7968, -0.4508, -1.0111]]])\n",
      "tensor([[[-0.4916,  0.7968]],\n",
      "\n",
      "        [[-0.7328, -0.4508]],\n",
      "\n",
      "        [[ 0.3370, -1.0111]]])\n",
      "torch.Size([1, 2, 3])\n",
      "torch.Size([3, 1, 2])\n"
     ]
    }
   ],
   "source": [
    "from einops import rearrange\n",
    "import torch\n",
    "\n",
    "input_tensor=torch.randn(1,2,3)\n",
    "\n",
    "# rearrange elements according to the pattern\n",
    "output_tensor = rearrange(input_tensor, 'h w c -> c h w')   # 进行维度的调换\n",
    "\n",
    "print(input_tensor)\n",
    "print(output_tensor)\n",
    "print(input_tensor.shape)\n",
    "print(output_tensor.shape)"
   ]
  },
  {
   "cell_type": "code",
   "execution_count": 4,
   "metadata": {},
   "outputs": [
    {
     "name": "stdout",
     "output_type": "stream",
     "text": [
      "torch.Size([1, 2, 2, 3])\n",
      "tensor([[[ 0.3865, -1.7265,  0.1809],\n",
      "         [-0.0750,  0.2128,  0.5375],\n",
      "         [ 0.7706,  0.7358, -0.3090],\n",
      "         [-1.2844, -2.0029, -0.2475]]])\n",
      "tensor([[[[ 0.3865, -1.7265,  0.1809],\n",
      "          [-0.0750,  0.2128,  0.5375]],\n",
      "\n",
      "         [[ 0.7706,  0.7358, -0.3090],\n",
      "          [-1.2844, -2.0029, -0.2475]]]])\n"
     ]
    }
   ],
   "source": [
    "a = torch.randn(1, 4, 3)  # [1, 4, 3]\n",
    "output = rearrange(a, 'c (r p) w -> c r p w', p=2) # 中间维度看作r×p，然后给出p的数值，这样会自动把中间那个维度拆解成3×3\n",
    "print(output.shape)   # [1, 2, 2, 3]\n",
    "\n",
    "print(a)\n",
    "print(output)"
   ]
  },
  {
   "cell_type": "code",
   "execution_count": 6,
   "metadata": {},
   "outputs": [
    {
     "name": "stdout",
     "output_type": "stream",
     "text": [
      "torch.Size([3, 9, 9])\n"
     ]
    }
   ],
   "source": [
    "from einops import repeat\n",
    "a = torch.randn(9, 9)  # [9, 9]\n",
    "output_tensor = repeat(a, 'h w -> c h w', c=3)  # [3, 9, 9]\n",
    "print(output_tensor.shape)"
   ]
  },
  {
   "cell_type": "code",
   "execution_count": 21,
   "metadata": {},
   "outputs": [
    {
     "name": "stdout",
     "output_type": "stream",
     "text": [
      "torch.Size([32, 64])\n",
      "torch.Size([10, 512, 15, 20])\n",
      "torch.Size([10, 128, 30, 40])\n",
      "torch.Size([10, 512, 10, 20])\n",
      "torch.Size([10, 512, 10, 20])\n",
      "torch.Size([10, 512])\n"
     ]
    }
   ],
   "source": [
    "from einops import reduce\n",
    " \n",
    "x = torch.randn(100, 32, 64)\n",
    "# perform max-reduction on the first axis:\n",
    "y0 = reduce(x, 't b c -> b c', reduction='max') #(32, 64)\n",
    "print(y0.shape)\n",
    " \n",
    "#指定h2,w2，相当于指定池化核的大小\n",
    "x1 = torch.randn(10, 512, 30, 40)\n",
    "# 2d max-pooling with kernel size = 2 * 2 \n",
    "y1 = reduce(x1, 'b c (h1 h2) (w1 w2) -> b c h1 w1', 'max', h2=2, w2=2)#(10, 512, 15, 20)\n",
    "print(y1.shape)\n",
    " \n",
    "# go back to the original height and width\n",
    "y2 = rearrange(y1, 'b (c h2 w2) h1 w1 -> b c (h1 h2) (w1 w2)', h2=2, w2=2)#(10, 128, 30, 40)\n",
    "print(y2.shape)\n",
    "\n",
    "#指定h1,w1，相当于指定池化后张量的大小\n",
    "# 2d max-pooling to 10 * 20 grid:\n",
    "y3 = reduce(x1, 'b c (h1 h2) (w1 w2) -> b c h1 w1', 'max', h1=10, w1=20) #(10, 512, 10, 20)\n",
    "print(y3.shape)\n",
    " \n",
    "# 2d average-pooling to 10 * 20 grid:\n",
    "y4 = reduce(x1, 'b c (h1 h2) (w1 w2) -> b c h1 w1', 'mean', h1=10, w1=20) #(10, 512, 10, 20)\n",
    "print(y4.shape)\n",
    "# Global average pooling\n",
    "y5 = reduce(x1, 'b c h w -> b c', 'mean') #(10, 512)\n",
    "print(y5.shape)"
   ]
  }
 ],
 "metadata": {
  "kernelspec": {
   "display_name": "Python 3",
   "language": "python",
   "name": "python3"
  },
  "language_info": {
   "codemirror_mode": {
    "name": "ipython",
    "version": 3
   },
   "file_extension": ".py",
   "mimetype": "text/x-python",
   "name": "python",
   "nbconvert_exporter": "python",
   "pygments_lexer": "ipython3",
   "version": "3.8.10 (default, Nov 14 2022, 12:59:47) \n[GCC 9.4.0]"
  },
  "orig_nbformat": 4,
  "vscode": {
   "interpreter": {
    "hash": "916dbcbb3f70747c44a77c7bcd40155683ae19c65e1c03b4aa3499c5328201f1"
   }
  }
 },
 "nbformat": 4,
 "nbformat_minor": 2
}
